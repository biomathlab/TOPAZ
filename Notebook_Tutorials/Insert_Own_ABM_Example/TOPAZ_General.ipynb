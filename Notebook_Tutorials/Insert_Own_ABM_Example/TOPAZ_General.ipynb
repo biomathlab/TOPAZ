{
 "cells": [
  {
   "cell_type": "markdown",
   "id": "9456238b-2dac-4be1-94d9-a67bca8d4313",
   "metadata": {},
   "source": [
    "## TOPAZ: TOpologically-based Parameter inference for Agent-based model optimiZation\n",
    "\n",
    "This code has three big sections: the simulation or topological data analysis (TDA) step, the approximate Bayesian computation step (ABC), and the Bayesian information criterion step (BIC).\n",
    "\n",
    "\n",
    "<img src=\"mega_w_pic_dark.png\" alt=\"My Plot\" width=\"800\"/>"
   ]
  },
  {
   "cell_type": "markdown",
   "id": "82ae3b5e-a379-4579-8c32-a44d607aa169",
   "metadata": {},
   "source": [
    "### Overview\n",
    "\n",
    "This is a general notebook that helps you run the TOPAZ pipeline. It gives space to use your own agent-based model in the TOPAZ pipeline while still running all of the steps. There are some steps that are included and basically ready to go and some steps that are left blank for you to fill in. It is recommended to check naming conventions to make sure they match and update the chosen paths throughout the notebook. This code is designed for three parameters (especially in step 2d), but can be changed to use more or less parameters. For a complete example of this code with a working simulation, please see the TOPAZ_CLW notebook. \n",
    "\n",
    "#### What's included:\n",
    "- Calculating the sample losses between the TDA simulation(s) and random ABC simulations  \n",
    "- Calculating the ABC-estimated median values  \n",
    "- Calculating the ABC posterior density plots  \n",
    "- Calculating the difference between the TDA crocker plot and ABC-estimated median crocker plot  \n",
    "- Computing the SSE and BIC score between the TDA crocker plot and ABC-estimated median crocker plot  \n",
    "- Sample code for visualizing the simulations, crocker plots, and posterior density plots in the notebook  \n",
    "\n",
    "#### What's not included:\n",
    "- Running the TDA simulation(s)  \n",
    "- Calculating the crocker plots for the TDA simulation(s)  \n",
    "- Running the random ABC simulations  \n",
    "- Calculating the crocker plots for the random ABC simulations  \n",
    "- Running the simulation of the calculated ABC-estimated median parameter values  \n",
    "- Calculating the crocker plots for the simulation of the calculated ABC-estimated median parameter values  "
   ]
  },
  {
   "cell_type": "code",
   "execution_count": null,
   "id": "a1bc391a-1935-4c01-bebe-485bca73a4fe",
   "metadata": {},
   "outputs": [],
   "source": [
    "# necessary imports needed throughout\n",
    "from IPython.display import Image,display, HTML"
   ]
  },
  {
   "cell_type": "markdown",
   "id": "383086e0-5687-49da-aece-fc6691f6228a",
   "metadata": {},
   "source": [
    "### Step 1: Topological Data Analysis"
   ]
  },
  {
   "cell_type": "markdown",
   "id": "caff7b73-d93c-4168-895a-96275c400d74",
   "metadata": {},
   "source": [
    "#### 1a. Simulate the ABM simulation"
   ]
  },
  {
   "cell_type": "code",
   "execution_count": null,
   "id": "6673890a-78c2-4612-b653-fb26abe606ef",
   "metadata": {},
   "outputs": [],
   "source": [
    "'''Run ABM simulation\n",
    "\n",
    "Recommended Inputs:\n",
    "    Parameters - Par1, Par2, Par3, etc. \n",
    "    T0 - Initial time of simulation\n",
    "    TF - End time of simulation\n",
    "    DT - How often to make a new frame of data\n",
    "    num_agents - number of agents to be in the simulation\n",
    "\n",
    "Recommended Requirements:\n",
    "    ic_vec.npy - vector of initial conditions\n",
    "    \n",
    "Recommended Outputs: \n",
    "    df_TDA.pkl - the resulting TDA dataframe over the simulation\n",
    "    TDA_simulation.gif - gif of chosen simulation\n",
    "    \n",
    "'''\n",
    "\n",
    "# upload simulation results\n",
    "tda_sims = './tda_simulations' #update \n",
    "\n",
    "#indices for parameter values chosen to run the TDA simulation (needed in step 2d)\n",
    "Par1_idx,Par2_idx,Par3_idx = [] #update \n",
    "\n",
    "# display simulation gif - may upload your own example for viewing\n",
    "# general_gif_name = f\"./TDA_simulation.gif\"\n",
    "# display(HTML(f'<img src=\"{general_gif_name}\" />'))"
   ]
  },
  {
   "cell_type": "markdown",
   "id": "fd888618-5e48-4802-83b3-72f6af37616d",
   "metadata": {},
   "source": [
    "This simulation will represent our \"ground truth\" baseline moving forward."
   ]
  },
  {
   "cell_type": "markdown",
   "id": "5f4abc12-108a-42f7-bb79-6e4069d82c48",
   "metadata": {},
   "source": [
    "#### 1b. Run TDA to get the Betti-0 and Betti-1 crocker matrices for your (Par1, Par2, Par3+) combination"
   ]
  },
  {
   "cell_type": "code",
   "execution_count": null,
   "id": "b5268e3c-e1c7-4dc3-8d9d-d20ba90a5497",
   "metadata": {},
   "outputs": [],
   "source": [
    "'''Compute crockers for specific Betti numbers given a trajectory dataframe.\n",
    "\n",
    "Recommended Inputs:\n",
    "    df_TDA.pkl - the resulting TDA dataframe over the simulation\n",
    "    \n",
    "Recommended Output: \n",
    "    TDA_crocker_angles.npy - the array of crocker angles that form the crocker plot\n",
    "    \n",
    "'''\n",
    "\n",
    "# upload or calculate the crocker plots for each TDA simulation above\n",
    "tda_crocker_angles_path = './tda_crocker_angles.npy' #update #this is the simulation for one parameter combination, if more wanted, will need to loop over the combinations\n",
    "\n",
    "\n",
    "# display crocker plot - may upload your own example for viewing\n",
    "# tda_crocker_name = f\"./tda_crocker_plot.png\"\n",
    "# display(Image(filename=tda_crocker_name, width=600))"
   ]
  },
  {
   "cell_type": "markdown",
   "id": "b42b5526-a8a6-4055-8fbd-4f90636d1419",
   "metadata": {},
   "source": [
    "### Step 2: Approximate Bayesian Computation"
   ]
  },
  {
   "cell_type": "markdown",
   "id": "63a6ca32-b593-4eb9-8157-d33834e2d7a8",
   "metadata": {},
   "source": [
    "#### 2a. Generate random samples"
   ]
  },
  {
   "cell_type": "markdown",
   "id": "4aa7920f-f16d-466b-9578-55daccf2a158",
   "metadata": {},
   "source": [
    "The goal is to run a large amount of ABC simulations. However, this is a very time and space consuming process. A sample of 30 random simulations has been pre-run but for more thourough analysis, closer to 10,000 samples is recommended. ~~THE CODE FOR THAT WILL BE INCLUDED??~"
   ]
  },
  {
   "cell_type": "code",
   "execution_count": null,
   "id": "1a97e44c-ffe3-4fa8-b5a7-e7a19deda23a",
   "metadata": {},
   "outputs": [],
   "source": [
    "'''Run ABM simulation for random values of Par1,Par2,Par3 over a specified time period\n",
    "\n",
    "Recommended Inputs:\n",
    "    T0 - Initial time of simulation\n",
    "    TF - End time of simulation\n",
    "    DT - How often to make a new frame of data\n",
    "    num_agents - number of cell agents to be in the simulation\n",
    "    \n",
    "Recommended Requirements:\n",
    "    ic_vec.npy - vector of initial conditions\n",
    "    \n",
    "Recommended Output: \n",
    "    df_ABC.pkl - the resulting dataframe over the simulation with random Par1, Par2, and Par3 values\n",
    "    pars.npy - file of parameters used in random simulation\n",
    "    random_ABC_simulation.gif - gif of random Par1,Par2,Par3 simulation\n",
    "    \n",
    "'''\n",
    "\n",
    "# upload x simulation results or run x number of random simulations\n",
    "abc_sims = './abc_simulations' #update\n",
    "\n",
    "# display simulation gif - may upload your own example for viewing\n",
    "# display(HTML('<img src=\"./random_ABC_simulation.gif\">'))"
   ]
  },
  {
   "cell_type": "markdown",
   "id": "f707ace8-d20e-42d0-b42b-2bc3e2e3d745",
   "metadata": {},
   "source": [
    "#### 2b. Calculate crocker plots for random samples "
   ]
  },
  {
   "cell_type": "markdown",
   "id": "d4358a15-4821-4083-a20c-d6b43de52127",
   "metadata": {},
   "source": [
    "This step is also very time consuming and similarly has been uploaded with an option to calculate the crocker plot for the single simulation ran in the previous step. "
   ]
  },
  {
   "cell_type": "code",
   "execution_count": null,
   "id": "9b98324a-0899-43a7-b2c3-8bfc855263ee",
   "metadata": {},
   "outputs": [],
   "source": [
    "'''Compute crockers for specific Betti numbers given a trajectory dataframe for random Par1,Par2,Par3 values\n",
    "\n",
    "Recommended Inputs:\n",
    "    df_ABC.pkl - the resulting dataframe over the simulation with random Par1, Par2, and Par3 values\n",
    "    pars.npy - file of parameters used in random simulation\n",
    "    \n",
    "Recommended Output: \n",
    "    ABC_crocker_angles.npy - crocker values of random Par1,Par2,Par3 simulation (one for each random simulation)\n",
    "    \n",
    "'''\n",
    "\n",
    "# path to the saved crocker_angles.npy files\n",
    "abc_crocker_angles_and_pars_path = './your_sample_path' #update"
   ]
  },
  {
   "cell_type": "markdown",
   "id": "45ec707c-ee81-4e9b-ae4e-83b0238e7583",
   "metadata": {},
   "source": [
    "#### 2c. Calculate samples losses for each crocker plot "
   ]
  },
  {
   "cell_type": "markdown",
   "id": "ae1e6b29-d5ab-45b8-93a2-f43b10b6603f",
   "metadata": {},
   "source": [
    "Now we will begin comparing our ABC results to our ground truth simulation from step 1. "
   ]
  },
  {
   "cell_type": "code",
   "execution_count": null,
   "id": "768fe940-c716-448c-90f3-4ff37d212dd1",
   "metadata": {},
   "outputs": [],
   "source": [
    "# calculate the sample loss and distance between our ground truth results and ABC results \n",
    "\n",
    "from Modules.ABC3_compute_losses import compute_losses\n",
    "\n",
    "'''Compute sample losses between ground truth and random ABC simulations and crocker plots \n",
    "\n",
    "Inputs:\n",
    "    num_samples - number of samples contained in samples_path\n",
    "    tda_crocker_angles_path - crocker values of chosen Par1,Par2,Par3 simulation from 1b\n",
    "    abc_crocker_angles_and_pars_path - path to the random samples from 2b\n",
    "    sample_losses_angles_path - desired path for sample losses angles to be saved to\n",
    "    \n",
    "Output: \n",
    "    sample_losses_angles.npy - file of sample losses calculated for the random samples \n",
    "    \n",
    "'''\n",
    "num_samples = 30 #update\n",
    "sample_losses_angles_path = './sample_losses_angles.npy' #update\n",
    "\n",
    "sample_losses = compute_losses(num_samples, tda_crocker_angles_path, abc_crocker_angles_and_pars_path, sample_losses_angles_path)"
   ]
  },
  {
   "cell_type": "markdown",
   "id": "73d041f4-69ab-4393-a7db-78e554a3c4c4",
   "metadata": {},
   "source": [
    "#### 2d. Calculate ABC medians and posterior density plots "
   ]
  },
  {
   "cell_type": "markdown",
   "id": "b3284871-7799-4054-b2be-fd6d5a726b10",
   "metadata": {},
   "source": [
    "From the sample losses, we can calculate the median values for ABC and create corresponding posterior density plots. "
   ]
  },
  {
   "cell_type": "code",
   "execution_count": null,
   "id": "f646d08f-847b-464e-a27b-5d13123fa6c4",
   "metadata": {},
   "outputs": [],
   "source": [
    "# calculate medians \n",
    "from Modules.ABC4_medians import compute_medians_and_densities\n",
    "\n",
    "'''Create posterior density plots for calculated sample losses and median ABC estimated values for Par1,Par2,Par3\n",
    "\n",
    "Inputs:\n",
    "    Par1_idx, Par2_idx, Par3_idx - indices to parameter values chosen for TDA simulation\n",
    "    sample_losses_angles_path - path to sample losses angles generated in 2c\n",
    "    abc_posterior_densities_path - desired path for posterior densities to be saved to\n",
    "    median_path - desired path for median values to be saved to\n",
    "    \n",
    "Output: \n",
    "    ABC_posterior_densities - folder containing 2D ABC posterior slices (1 for each Par3 value)\n",
    "    medians - ABC estimated median values for Par1,Par2,Par3\n",
    "\n",
    "'''\n",
    "#path for the ABC posterior density plots to be saved within\n",
    "abc_posterior_densities_path = './ABC_posterior_densities' #update\n",
    "median_path = './medians.npy'\n",
    "\n",
    "#Par1_idx,Par2_idx,Par3_idx refer to ground truth indices for Par1, Par2, and Par3\n",
    "medians = compute_medians_and_densities(Par1_idx,Par2_idx,Par3_idx,sample_losses_angles_path,abc_posterior_densities_path,median_path)\n",
    "\n",
    "print('Medians: '+str(medians)))\n",
    "\n",
    "#output posterior density plots \n",
    "html = \"\" \n",
    "for Par3_slice in range(11): #update \n",
    "    post_slices_name = f\"/ABC_posterior_densities/posterior_density_slice_at_w{str(Par3_slice).zfill(2)}.png\"\n",
    "    html += f'<img src=\"{post_slices_name}\" width=\"200\" style=\"margin-right:10px;\" />'\n",
    "\n",
    "display(HTML(html))"
   ]
  },
  {
   "cell_type": "markdown",
   "id": "ab3edb9c-6044-4b56-942c-1b10669b9b88",
   "metadata": {},
   "source": [
    "#### 2e. Run the ABC model simulations"
   ]
  },
  {
   "cell_type": "markdown",
   "id": "b81a45a3-99de-4d98-bc56-26b785da5a7e",
   "metadata": {},
   "source": [
    "Next we will run the ABC medians through our ABM simulation. "
   ]
  },
  {
   "cell_type": "code",
   "execution_count": null,
   "id": "d035f1d9-c63d-4436-86b4-e154e2da60da",
   "metadata": {},
   "outputs": [],
   "source": [
    "'''Run ABM simulation for ABC median estimated values of Par1, Par2, and Par3 over a specified time period\n",
    "\n",
    "Recommended Inputs:\n",
    "    Medians - median values for parameters at which to run the ABC simulation on \n",
    "    T0 - Initial time of simulation\n",
    "    TF - End time of simulation\n",
    "    DT - How often to make a new frame of data\n",
    "    num_agents - number of agents to be in the simulation\n",
    "\n",
    "Recommended Requirements:\n",
    "    ic_vec.npy - vector of initial conditions\n",
    "    \n",
    "Recommended Outputs: \n",
    "    df_median.pkl -  the resulting dataframe over the simulation with median Par1, Par2, and Par3 values\n",
    "    ABC_median_simulation.gif - gif of median simulation\n",
    "    \n",
    "'''\n",
    "\n",
    "#run ABC simulation for median values \n",
    "abc_median_sim = './abc_median_simulation' #update \n",
    "\n",
    "# display simulation gif\n",
    "# ABC_med_gif_name = f\"/ABC_median_simulation.gif\"\n",
    "# display(HTML(f'<img src=\"{ABC_med_gif_name}\" />'))"
   ]
  },
  {
   "cell_type": "markdown",
   "id": "97a68a81-4b73-4997-84ec-da466569121f",
   "metadata": {},
   "source": [
    "#### 2f. Calculate the ABC crocker plots "
   ]
  },
  {
   "cell_type": "markdown",
   "id": "6ee1b45b-7afe-4512-9186-5a59e3898bda",
   "metadata": {},
   "source": [
    "From the simulation, we can create an ABC crocker plot. "
   ]
  },
  {
   "cell_type": "code",
   "execution_count": null,
   "id": "f0e98516-0461-49fd-b730-a2961d48ad43",
   "metadata": {},
   "outputs": [],
   "source": [
    "'''Compute crockers for specific Betti numbers given a trajectory dataframe for ABC median estimated Par1,Par2,Par3 values\n",
    "\n",
    "Recommended Inputs:\n",
    "    df_median.pkl - the resulting dataframe over the simulation with median Par1, Par2, and Par3 values\n",
    "    \n",
    "Recommended Output: \n",
    "    median_crocker_angles.npy - crocker values of median Par1,Par2,Par3 simulation\n",
    "    true_crocker.png - Ground truth crocker plot \n",
    "    ABC_crocker.png - ABC median crocker plot \n",
    "    \n",
    "'''\n",
    "\n",
    "# path to the saved median_crocker_angles.npy files\n",
    "median_crocker_angles_path = './median_crocker_angles.npy' \n",
    "\n",
    "# display true crocker plot \n",
    "# tda_crocker_name = f\"./tda_crocker_plot.png\"\n",
    "# display(Image(filename=tda_crocker_name, width=600))\n",
    "\n",
    "# display ABC crocker plot \n",
    "# abc_median_crocker_name = f\"./median_crocker_plot.png\"\n",
    "# display(Image(filename=abc_median_crocker_name, width=600))"
   ]
  },
  {
   "cell_type": "markdown",
   "id": "2a0f66c9-e661-45b1-8c00-de0135373d7c",
   "metadata": {},
   "source": [
    "#### 2g. Calculate the differences between the TDA crocker and ABC median crocker"
   ]
  },
  {
   "cell_type": "markdown",
   "id": "ed60986b-1147-42ac-8d35-fdcc244aa779",
   "metadata": {},
   "source": [
    "Now that we have the TDA crocker and ABC median crocker, we can calculate the difference between then which will help lead us to the SSE. "
   ]
  },
  {
   "cell_type": "code",
   "execution_count": null,
   "id": "02ea0ee0-c32b-444e-be2d-1432af768484",
   "metadata": {},
   "outputs": [],
   "source": [
    "from Modules.ABC7_crocker_difference import compute_crocker_difference\n",
    "\n",
    "'''Compute the difference between the TDA crocker and ABC median crocker\n",
    "\n",
    "Recommended Inputs:\n",
    "    TDA_crocker_angles.npy - the array of crocker angles that form the crocker plot\n",
    "    median_crocker_angles.npy - crocker values of median Par1,Par2,Par3 simulation\n",
    "    \n",
    "Recommended Output: \n",
    "    crocker_differences.npy - calculated difference between the two crocker plots \n",
    "    \n",
    "'''\n",
    "\n",
    "#path for crocker differences to be saved to\n",
    "crocker_difference_path = './crocker_differences.npy/'\n",
    "\n",
    "#compute the crocker difference\n",
    "compute_crocker_difference(tda_crocker_angles_path,median_crocker_angles_path,crocker_difference_path)\n"
   ]
  },
  {
   "cell_type": "markdown",
   "id": "7ea3755d-d9c3-45e5-9f88-bc0f47808ad0",
   "metadata": {},
   "source": [
    "### Step 3: Bayesian Information Criterion"
   ]
  },
  {
   "cell_type": "markdown",
   "id": "428c1ec3-0781-4fe1-a12c-ab83110f1f1f",
   "metadata": {},
   "source": [
    "#### 3a. Calculate the BIC score"
   ]
  },
  {
   "cell_type": "markdown",
   "id": "962225dc-e766-4c72-a75e-1b534ec3f1b3",
   "metadata": {},
   "source": [
    "Now we will calculate the BIC score from the SSE between the ground truth model and ABC estimated model results."
   ]
  },
  {
   "cell_type": "code",
   "execution_count": null,
   "id": "d2b9683f-a022-458a-81b4-48f730e66881",
   "metadata": {},
   "outputs": [],
   "source": [
    "from Modules.BIC_calc_bic import calc_bic\n",
    "\n",
    "'''Calculate the BIC score for the simulation of our chosen Par1, Par2, and Par3 values compared to the ABC median estimate\n",
    "\n",
    "Inputs:\n",
    "    num_parameters - number of parameters used in simulation\n",
    "    num_data_pts - number of data points used in simulation\n",
    "    crocker_difference_path - path to file of difference values between ground truth crocker and ABC median crocker\n",
    "    bic_path - path to save bic score to\n",
    "    \n",
    "Output: \n",
    "    BIC Score - Score of model based on BIC formula\n",
    "    SSE - SSE between ground truth and ABC estimated crockers\n",
    "    \n",
    "'''\n",
    "#path to save bic results to\n",
    "bic_path = './bic_results.npy' \n",
    "\n",
    "#number of parameters used in simulation\n",
    "num_parameters = 3 #update\n",
    "\n",
    "#number of data points used in simulation\n",
    "num_data_pts = 40000 #update\n",
    "\n",
    "[bic_score,sse_score] = calc_bic(num_parameters, num_data_pts, crocker_difference_path, bic_path)\n",
    "\n",
    "print('BIC Score: ' + str(bic_score) + ' SSE: ' + str(sse_score))"
   ]
  },
  {
   "cell_type": "code",
   "execution_count": null,
   "id": "cffb8dca-c646-4fb5-84f0-a7513dc80552",
   "metadata": {},
   "outputs": [],
   "source": []
  }
 ],
 "metadata": {
  "kernelspec": {
   "display_name": "Python 3 (ipykernel)",
   "language": "python",
   "name": "python3"
  },
  "language_info": {
   "codemirror_mode": {
    "name": "ipython",
    "version": 3
   },
   "file_extension": ".py",
   "mimetype": "text/x-python",
   "name": "python",
   "nbconvert_exporter": "python",
   "pygments_lexer": "ipython3",
   "version": "3.12.4"
  }
 },
 "nbformat": 4,
 "nbformat_minor": 5
}
